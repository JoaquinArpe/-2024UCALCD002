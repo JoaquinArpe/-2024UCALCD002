{
  "nbformat": 4,
  "nbformat_minor": 0,
  "metadata": {
    "colab": {
      "provenance": [],
      "authorship_tag": "ABX9TyPxaH9K1JvUPavO0DTJ7RBT",
      "include_colab_link": true
    },
    "kernelspec": {
      "name": "python3",
      "display_name": "Python 3"
    },
    "language_info": {
      "name": "python"
    }
  },
  "cells": [
    {
      "cell_type": "markdown",
      "metadata": {
        "id": "view-in-github",
        "colab_type": "text"
      },
      "source": [
        "<a href=\"https://colab.research.google.com/github/JoaquinArpe/-2024UCALCD002/blob/main/Copia_de_Untitled1.ipynb\" target=\"_parent\"><img src=\"https://colab.research.google.com/assets/colab-badge.svg\" alt=\"Open In Colab\"/></a>"
      ]
    },
    {
      "cell_type": "code",
      "source": [
        "print(\"Buscar base y altura\")\n",
        "print(\"Ingrese base y aultura: \")\n",
        "\n",
        "A = int(input(\"Altura\"))\n",
        "B = int(input(\"Base\"))\n",
        "\n",
        "print(\"La superficie es: \")\n",
        "\n",
        "superficie = B*A\n",
        "\n",
        "print(superficie)\n",
        "\n",
        "\n",
        "\n"
      ],
      "metadata": {
        "colab": {
          "base_uri": "https://localhost:8080/"
        },
        "id": "pc5akYHRy4O3",
        "outputId": "33f712a0-ca7b-4a89-88cd-50aaa74327e1"
      },
      "execution_count": null,
      "outputs": [
        {
          "output_type": "stream",
          "name": "stdout",
          "text": [
            "Buscar base y altura\n",
            "Ingrese base y aultura: \n",
            "Altura10\n",
            "Base10\n",
            "La superficie es: \n",
            "100\n"
          ]
        }
      ]
    },
    {
      "cell_type": "code",
      "source": [
        "print(\"Ingrese 3 valores enteros\")\n",
        "\n",
        "A = int(input(\"Valor nro 1: \"))\n",
        "B = int(input(\"Valor nro 2: \"))\n",
        "C = int(input(\"Valor nro 3: \"))\n",
        "\n",
        "print(A)\n",
        "print(B)\n",
        "print(C)\n",
        "\n",
        "if A>B and A>C:\n",
        "  print(\"A es el mayor\")\n",
        "else:\n",
        "  print(\"A no es el mayor\")\n",
        "if B>A and B>C:\n",
        "  print(\"B es el mayor\")\n",
        "else:\n",
        "  print(\"B no es el mayor\")\n",
        "if C>A and C>B:\n",
        "  print(\"C es el mayor\")\n",
        "else:\n",
        "  print(\"C es el mayor\")\n",
        "if A<B and A<C:\n",
        "  print(\"A es el menor\")\n",
        "else:\n",
        "  print(\"A no es el menor\")\n",
        "if B<A and B<C:\n",
        "  print(\"B es el menor\")\n",
        "else:\n",
        "  print(\"B no es el menor\")\n",
        "if C<A and C<B:\n",
        "  print(\"C es el menor\")\n",
        "else:\n",
        "  print(\"C no es el menor\")\n",
        "if A==B and A==C:\n",
        "  print(\"NO INGRESAR NROS IGUALES\")\n",
        "else:\n",
        "    print(\"No son iguales\")\n",
        "\n",
        "\n",
        "\n",
        "\n",
        "\n",
        "\n"
      ],
      "metadata": {
        "colab": {
          "base_uri": "https://localhost:8080/"
        },
        "id": "M--L1HiQ015s",
        "outputId": "e717ea4f-3859-4883-dde7-e3026ea5dfc4"
      },
      "execution_count": null,
      "outputs": [
        {
          "output_type": "stream",
          "name": "stdout",
          "text": [
            "Ingrese 3 valores enteros\n",
            "Valor nro 1: 10\n",
            "Valor nro 2: 20\n",
            "Valor nro 3: 30\n",
            "10\n",
            "20\n",
            "30\n",
            "A no es el mayor\n",
            "B no es el mayor\n",
            "C es el mayor\n",
            "A es el menor\n",
            "B no es el menor\n",
            "C no es el menor\n",
            "No son iguales\n"
          ]
        }
      ]
    },
    {
      "cell_type": "code",
      "source": [
        "numeros_pares = []\n",
        "for i in range(1,26):\n",
        "  if i % 2==0:\n",
        "     numeros_pares.append(i)\n",
        "print(numeros_pares)\n",
        "\n",
        "\n"
      ],
      "metadata": {
        "colab": {
          "base_uri": "https://localhost:8080/"
        },
        "id": "iBcUcULp2G_n",
        "outputId": "2051c130-9942-40c2-c407-5e03e08c46fa"
      },
      "execution_count": null,
      "outputs": [
        {
          "output_type": "stream",
          "name": "stdout",
          "text": [
            "[2, 4, 6, 8, 10, 12, 14, 16, 18, 20, 22, 24]\n"
          ]
        }
      ]
    },
    {
      "cell_type": "code",
      "source": [
        "primeros_numeros_mayores_pares =[]\n",
        " for i in range\n",
        "\n",
        "\n",
        "\n"
      ],
      "metadata": {
        "id": "ibT0-pEO_Dxm"
      },
      "execution_count": null,
      "outputs": []
    },
    {
      "cell_type": "code",
      "source": [],
      "metadata": {
        "id": "Fg-MEouiJVGO"
      },
      "execution_count": null,
      "outputs": []
    }
  ]
}